{
 "cells": [
  {
   "cell_type": "markdown",
   "metadata": {},
   "source": [
    "Импортируем необходимые библиотеки"
   ]
  },
  {
   "cell_type": "code",
   "execution_count": 2,
   "metadata": {
    "collapsed": true
   },
   "outputs": [],
   "source": [
    "import pandas as pd\n",
    "from matplotlib import pylab as plt"
   ]
  },
  {
   "cell_type": "markdown",
   "metadata": {},
   "source": [
    " ## Задание №1"
   ]
  },
  {
   "cell_type": "code",
   "execution_count": 3,
   "metadata": {
    "collapsed": true
   },
   "outputs": [],
   "source": [
    "data = pd.read_csv('MVA_Vehicle_Sales_Counts_by_Month_for_CY_2002_-_2017_Up_to_June.csv', header=0)"
   ]
  },
  {
   "cell_type": "markdown",
   "metadata": {},
   "source": [
    "## Задание №2"
   ]
  },
  {
   "cell_type": "code",
   "execution_count": 4,
   "metadata": {},
   "outputs": [
    {
     "data": {
      "text/html": [
       "<div>\n",
       "<style>\n",
       "    .dataframe thead tr:only-child th {\n",
       "        text-align: right;\n",
       "    }\n",
       "\n",
       "    .dataframe thead th {\n",
       "        text-align: left;\n",
       "    }\n",
       "\n",
       "    .dataframe tbody tr th {\n",
       "        vertical-align: top;\n",
       "    }\n",
       "</style>\n",
       "<table border=\"1\" class=\"dataframe\">\n",
       "  <thead>\n",
       "    <tr style=\"text-align: right;\">\n",
       "      <th></th>\n",
       "      <th>Year</th>\n",
       "      <th>Month</th>\n",
       "      <th>New</th>\n",
       "      <th>Used</th>\n",
       "      <th>Total Sales New</th>\n",
       "      <th>Total Sales Used</th>\n",
       "    </tr>\n",
       "  </thead>\n",
       "  <tbody>\n",
       "    <tr>\n",
       "      <th>0</th>\n",
       "      <td>2002</td>\n",
       "      <td>JAN</td>\n",
       "      <td>31106</td>\n",
       "      <td>49927</td>\n",
       "      <td>$755015820</td>\n",
       "      <td>$386481929</td>\n",
       "    </tr>\n",
       "    <tr>\n",
       "      <th>1</th>\n",
       "      <td>2002</td>\n",
       "      <td>FEB</td>\n",
       "      <td>27520</td>\n",
       "      <td>50982</td>\n",
       "      <td>$664454223</td>\n",
       "      <td>$361353242</td>\n",
       "    </tr>\n",
       "    <tr>\n",
       "      <th>2</th>\n",
       "      <td>2002</td>\n",
       "      <td>MAR</td>\n",
       "      <td>34225</td>\n",
       "      <td>58794</td>\n",
       "      <td>$805666244</td>\n",
       "      <td>$419385387</td>\n",
       "    </tr>\n",
       "    <tr>\n",
       "      <th>3</th>\n",
       "      <td>2002</td>\n",
       "      <td>APR</td>\n",
       "      <td>36452</td>\n",
       "      <td>59817</td>\n",
       "      <td>$846368297</td>\n",
       "      <td>$433061150</td>\n",
       "    </tr>\n",
       "    <tr>\n",
       "      <th>4</th>\n",
       "      <td>2002</td>\n",
       "      <td>MAY</td>\n",
       "      <td>37359</td>\n",
       "      <td>60577</td>\n",
       "      <td>$855005784</td>\n",
       "      <td>$442569410</td>\n",
       "    </tr>\n",
       "    <tr>\n",
       "      <th>5</th>\n",
       "      <td>2002</td>\n",
       "      <td>JUN</td>\n",
       "      <td>36348</td>\n",
       "      <td>55415</td>\n",
       "      <td>$830251613</td>\n",
       "      <td>$414731166</td>\n",
       "    </tr>\n",
       "    <tr>\n",
       "      <th>6</th>\n",
       "      <td>2002</td>\n",
       "      <td>JUL</td>\n",
       "      <td>30367</td>\n",
       "      <td>55235</td>\n",
       "      <td>$700530891</td>\n",
       "      <td>$384673023</td>\n",
       "    </tr>\n",
       "    <tr>\n",
       "      <th>7</th>\n",
       "      <td>2002</td>\n",
       "      <td>AUG</td>\n",
       "      <td>38965</td>\n",
       "      <td>60310</td>\n",
       "      <td>$934484212</td>\n",
       "      <td>$455453720</td>\n",
       "    </tr>\n",
       "    <tr>\n",
       "      <th>8</th>\n",
       "      <td>2002</td>\n",
       "      <td>SEP</td>\n",
       "      <td>39740</td>\n",
       "      <td>55485</td>\n",
       "      <td>$950502055</td>\n",
       "      <td>$432112270</td>\n",
       "    </tr>\n",
       "    <tr>\n",
       "      <th>9</th>\n",
       "      <td>2002</td>\n",
       "      <td>OCT</td>\n",
       "      <td>35276</td>\n",
       "      <td>58020</td>\n",
       "      <td>$865326154</td>\n",
       "      <td>$456738532</td>\n",
       "    </tr>\n",
       "    <tr>\n",
       "      <th>10</th>\n",
       "      <td>2002</td>\n",
       "      <td>NOV</td>\n",
       "      <td>27812</td>\n",
       "      <td>49066</td>\n",
       "      <td>$691740703</td>\n",
       "      <td>$379196575</td>\n",
       "    </tr>\n",
       "    <tr>\n",
       "      <th>11</th>\n",
       "      <td>2002</td>\n",
       "      <td>DEC</td>\n",
       "      <td>26994</td>\n",
       "      <td>42461</td>\n",
       "      <td>$673208880</td>\n",
       "      <td>$374453368</td>\n",
       "    </tr>\n",
       "    <tr>\n",
       "      <th>12</th>\n",
       "      <td>2003</td>\n",
       "      <td>JAN</td>\n",
       "      <td>34707</td>\n",
       "      <td>49481</td>\n",
       "      <td>$860730784</td>\n",
       "      <td>$392438833</td>\n",
       "    </tr>\n",
       "    <tr>\n",
       "      <th>13</th>\n",
       "      <td>2003</td>\n",
       "      <td>FEB</td>\n",
       "      <td>24585</td>\n",
       "      <td>41048</td>\n",
       "      <td>$615749948</td>\n",
       "      <td>$323297077</td>\n",
       "    </tr>\n",
       "    <tr>\n",
       "      <th>14</th>\n",
       "      <td>2003</td>\n",
       "      <td>MAR</td>\n",
       "      <td>32705</td>\n",
       "      <td>56513</td>\n",
       "      <td>$791728069</td>\n",
       "      <td>$413899574</td>\n",
       "    </tr>\n",
       "    <tr>\n",
       "      <th>15</th>\n",
       "      <td>2003</td>\n",
       "      <td>APR</td>\n",
       "      <td>37682</td>\n",
       "      <td>61856</td>\n",
       "      <td>$909778220</td>\n",
       "      <td>$458127973</td>\n",
       "    </tr>\n",
       "    <tr>\n",
       "      <th>16</th>\n",
       "      <td>2003</td>\n",
       "      <td>MAY</td>\n",
       "      <td>38472</td>\n",
       "      <td>61742</td>\n",
       "      <td>$917339608</td>\n",
       "      <td>$469734647</td>\n",
       "    </tr>\n",
       "    <tr>\n",
       "      <th>17</th>\n",
       "      <td>2003</td>\n",
       "      <td>JUN</td>\n",
       "      <td>38573</td>\n",
       "      <td>59904</td>\n",
       "      <td>$941898387</td>\n",
       "      <td>$455117890</td>\n",
       "    </tr>\n",
       "    <tr>\n",
       "      <th>18</th>\n",
       "      <td>2003</td>\n",
       "      <td>JUL</td>\n",
       "      <td>41088</td>\n",
       "      <td>62811</td>\n",
       "      <td>$990041754</td>\n",
       "      <td>$489374362</td>\n",
       "    </tr>\n",
       "  </tbody>\n",
       "</table>\n",
       "</div>"
      ],
      "text/plain": [
       "    Year  Month     New   Used Total Sales New Total Sales Used\n",
       "0    2002    JAN  31106  49927      $755015820       $386481929\n",
       "1    2002    FEB  27520  50982      $664454223       $361353242\n",
       "2    2002    MAR  34225  58794      $805666244       $419385387\n",
       "3    2002    APR  36452  59817      $846368297       $433061150\n",
       "4    2002    MAY  37359  60577      $855005784       $442569410\n",
       "5    2002    JUN  36348  55415      $830251613       $414731166\n",
       "6    2002    JUL  30367  55235      $700530891       $384673023\n",
       "7    2002    AUG  38965  60310      $934484212       $455453720\n",
       "8    2002    SEP  39740  55485      $950502055       $432112270\n",
       "9    2002    OCT  35276  58020      $865326154       $456738532\n",
       "10   2002    NOV  27812  49066      $691740703       $379196575\n",
       "11   2002    DEC  26994  42461      $673208880       $374453368\n",
       "12   2003    JAN  34707  49481      $860730784       $392438833\n",
       "13   2003    FEB  24585  41048      $615749948       $323297077\n",
       "14   2003    MAR  32705  56513      $791728069       $413899574\n",
       "15   2003    APR  37682  61856      $909778220       $458127973\n",
       "16   2003    MAY  38472  61742      $917339608       $469734647\n",
       "17   2003    JUN  38573  59904      $941898387       $455117890\n",
       "18   2003    JUL  41088  62811      $990041754       $489374362"
      ]
     },
     "execution_count": 4,
     "metadata": {},
     "output_type": "execute_result"
    }
   ],
   "source": [
    "data.head(14 + 5)"
   ]
  },
  {
   "cell_type": "code",
   "execution_count": 5,
   "metadata": {},
   "outputs": [
    {
     "name": "stdout",
     "output_type": "stream",
     "text": [
      "<class 'pandas.core.frame.DataFrame'>\n",
      "RangeIndex: 186 entries, 0 to 185\n",
      "Data columns (total 6 columns):\n",
      "Year                186 non-null int64\n",
      "Month               186 non-null object\n",
      "New                 186 non-null int64\n",
      "Used                186 non-null int64\n",
      "Total Sales New     186 non-null object\n",
      "Total Sales Used    186 non-null object\n",
      "dtypes: int64(3), object(3)\n",
      "memory usage: 8.8+ KB\n"
     ]
    }
   ],
   "source": [
    "data.info()"
   ]
  },
  {
   "cell_type": "code",
   "execution_count": 6,
   "metadata": {},
   "outputs": [
    {
     "data": {
      "text/plain": [
       "2"
      ]
     },
     "execution_count": 6,
     "metadata": {},
     "output_type": "execute_result"
    }
   ],
   "source": [
    "26//14 * 2"
   ]
  },
  {
   "cell_type": "code",
   "execution_count": 7,
   "metadata": {},
   "outputs": [
    {
     "data": {
      "text/plain": [
       "Year                 int64\n",
       "Month               object\n",
       "New                  int64\n",
       "Used                 int64\n",
       "Total Sales New     object\n",
       "Total Sales Used    object\n",
       "dtype: object"
      ]
     },
     "execution_count": 7,
     "metadata": {},
     "output_type": "execute_result"
    }
   ],
   "source": [
    "data.dtypes"
   ]
  },
  {
   "cell_type": "markdown",
   "metadata": {},
   "source": [
    "Убираю пробелы с конца названий столбцов"
   ]
  },
  {
   "cell_type": "code",
   "execution_count": 8,
   "metadata": {
    "collapsed": true
   },
   "outputs": [],
   "source": [
    "data.columns = ['Year', 'Month', 'New', 'Used', 'TotalSalesNew',\n",
    "       'TotalSalesUsed']"
   ]
  },
  {
   "cell_type": "markdown",
   "metadata": {},
   "source": [
    "## Задание №3"
   ]
  },
  {
   "cell_type": "code",
   "execution_count": 9,
   "metadata": {},
   "outputs": [
    {
     "data": {
      "text/plain": [
       "656089"
      ]
     },
     "execution_count": 9,
     "metadata": {},
     "output_type": "execute_result"
    }
   ],
   "source": [
    "data_year_2002 = data[data.Year == 2002]\n",
    "total = 0\n",
    "for i in data_year_2002.Used:\n",
    "    total += i\n",
    "total"
   ]
  },
  {
   "cell_type": "markdown",
   "metadata": {},
   "source": [
    "Поскольку я 20-й, а месяцев всего 12, то возьму 12-й, как самый ближний"
   ]
  },
  {
   "cell_type": "code",
   "execution_count": 10,
   "metadata": {
    "collapsed": true
   },
   "outputs": [],
   "source": [
    "del data_year_2002 #освобождаю память"
   ]
  },
  {
   "cell_type": "code",
   "execution_count": 11,
   "metadata": {},
   "outputs": [
    {
     "data": {
      "text/plain": [
       "6606351904"
      ]
     },
     "execution_count": 11,
     "metadata": {},
     "output_type": "execute_result"
    }
   ],
   "source": [
    "data_DEC = data[data.Month == 'DEC']\n",
    "middle_used = 0\n",
    "for i in data_DEC.TotalSalesUsed:\n",
    "    middle_used += int(i[1:])\n",
    "middle_used"
   ]
  },
  {
   "cell_type": "markdown",
   "metadata": {},
   "source": [
    "## Задание №4\n",
    "Опять выбираю 12-й месяц"
   ]
  },
  {
   "cell_type": "code",
   "execution_count": 12,
   "metadata": {},
   "outputs": [
    {
     "data": {
      "image/png": "[encoded data removed]",
      "text/plain": [
       "<matplotlib.figure.Figure at 0x20b462079e8>"
      ]
     },
     "metadata": {},
     "output_type": "display_data"
    }
   ],
   "source": [
    "def deleteThisDollar(listOfAnswer, seriesToWork):\n",
    "    for i in seriesToWork:\n",
    "        listOfAnswer.append(int(i[1:]))\n",
    "\n",
    "without_dollar_new = []\n",
    "without_dollar_old = []\n",
    "\n",
    "deleteThisDollar(without_dollar_new,data_DEC.TotalSalesNew)\n",
    "deleteThisDollar(without_dollar_old,data_DEC.TotalSalesUsed)\n",
    "\n",
    "for i in range(len(without_dollar_new)):\n",
    "    without_dollar_new[i] = list(data_DEC.New)[i]\n",
    "for i in range(len(without_dollar_old)):\n",
    "    without_dollar_old[i] = list(data_DEC.Used)[i]\n",
    "    \n",
    "plt.title(\"Sales on Decembers\")\n",
    "plt.xlabel(\"Years\")\n",
    "plt.ylabel(\"Middle price\")\n",
    "plt.plot(list(data_DEC.Year),without_dollar_new, label = \"New\")\n",
    "plt.plot(list(data_DEC.Year),without_dollar_old, label = \"Used\")\n",
    "plt.show()"
   ]
  }
 ],
 "metadata": {
  "kernelspec": {
   "display_name": "Python 3",
   "language": "python",
   "name": "python3"
  },
  "language_info": {
   "codemirror_mode": {
    "name": "ipython",
    "version": 3
   },
   "file_extension": ".py",
   "mimetype": "text/x-python",
   "name": "python",
   "nbconvert_exporter": "python",
   "pygments_lexer": "ipython3",
   "version": "3.6.1"
  }
 },
 "nbformat": 4,
 "nbformat_minor": 2
}
